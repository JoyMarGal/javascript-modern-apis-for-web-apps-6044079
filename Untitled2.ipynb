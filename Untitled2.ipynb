{
  "nbformat": 4,
  "nbformat_minor": 0,
  "metadata": {
    "colab": {
      "provenance": [],
      "authorship_tag": "ABX9TyMQdDqEA+Ydb3CvIZgbALUl",
      "include_colab_link": true
    },
    "kernelspec": {
      "name": "python3",
      "display_name": "Python 3"
    },
    "language_info": {
      "name": "python"
    }
  },
  "cells": [
    {
      "cell_type": "markdown",
      "metadata": {
        "id": "view-in-github",
        "colab_type": "text"
      },
      "source": [
        "<a href=\"https://colab.research.google.com/github/JoyMarGal/javascript-modern-apis-for-web-apps-6044079/blob/main/Untitled2.ipynb\" target=\"_parent\"><img src=\"https://colab.research.google.com/assets/colab-badge.svg\" alt=\"Open In Colab\"/></a>"
      ]
    },
    {
      "cell_type": "code",
      "execution_count": null,
      "metadata": {
        "id": "Ogv5wC1_FA7n"
      },
      "outputs": [],
      "source": []
    },
    {
      "cell_type": "code",
      "source": [
        "mydict ={\n",
        "    \"one\" : 1, # using string\n",
        "    \"two\" : 2, # using string\n",
        " # change things up to have the key to be an ineteger\n",
        "    3 : \"three\", # using integer\n",
        "# then a Flooding point value\n",
        "    4.5 : [\"four\", \"point\", \"five\"]  # the data inside []  will be a list # using 4.5 as the floating-point number as the keys and\n",
        "    # and the [\"four\", \"point\", \"five\"] the value here is the list of values\n",
        "}\n",
        "print(mydict)"
      ],
      "metadata": {
        "colab": {
          "base_uri": "https://localhost:8080/",
          "height": 106
        },
        "id": "54kVfjKpFkDf",
        "outputId": "4864d4fb-1bf6-4f9b-a585-a91b263fcfd5"
      },
      "execution_count": 1,
      "outputs": [
        {
          "output_type": "error",
          "ename": "SyntaxError",
          "evalue": "':' expected after dictionary key (ipython-input-1-3782267654.py, line 5)",
          "traceback": [
            "\u001b[0;36m  File \u001b[0;32m\"/tmp/ipython-input-1-3782267654.py\"\u001b[0;36m, line \u001b[0;32m5\u001b[0m\n\u001b[0;31m    3 : \"three\", 3 using integer\u001b[0m\n\u001b[0m                 ^\u001b[0m\n\u001b[0;31mSyntaxError\u001b[0m\u001b[0;31m:\u001b[0m ':' expected after dictionary key\n"
          ]
        }
      ]
    },
    {
      "cell_type": "code",
      "source": [
        "mydict ={\n",
        "    \"one\" : 1, # using string\n",
        "    \"two\" : 2, # using string\n",
        " # change things up to have the key to be an ineteger\n",
        "    3 : \"three\", #3 using integer\n",
        "# then a Flooding point value\n",
        "    4.5 : [\"four\", \"point\", \"five\"]  # the data inside []  will be a list # using 4.5 as the floating-point number as the keys and\n",
        "    # and the [\"four\", \"point\", \"five\"] the value here is the list of values\n",
        "}\n",
        "print(mydict)"
      ],
      "metadata": {
        "colab": {
          "base_uri": "https://localhost:8080/"
        },
        "id": "1xsMDO31X83H",
        "outputId": "b0e82f7f-eec9-432a-b4e8-8584aeda166d"
      },
      "execution_count": 2,
      "outputs": [
        {
          "output_type": "stream",
          "name": "stdout",
          "text": [
            "{'one': 1, 'two': 2, 3: 'three', 4.5: ['four', 'point', 'five']}\n"
          ]
        }
      ]
    }
  ]
}